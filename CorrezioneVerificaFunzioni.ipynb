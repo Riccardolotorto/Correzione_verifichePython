{
  "nbformat": 4,
  "nbformat_minor": 0,
  "metadata": {
    "colab": {
      "provenance": [],
      "authorship_tag": "ABX9TyNJXe1uJq+1utAq01mujfku",
      "include_colab_link": true
    },
    "kernelspec": {
      "name": "python3",
      "display_name": "Python 3"
    },
    "language_info": {
      "name": "python"
    }
  },
  "cells": [
    {
      "cell_type": "markdown",
      "metadata": {
        "id": "view-in-github",
        "colab_type": "text"
      },
      "source": [
        "<a href=\"https://colab.research.google.com/github/Riccardolotorto/Correzione_verifichePython/blob/main/CorrezioneVerificaFunzioni.ipynb\" target=\"_parent\"><img src=\"https://colab.research.google.com/assets/colab-badge.svg\" alt=\"Open In Colab\"/></a>"
      ]
    },
    {
      "cell_type": "markdown",
      "source": [
        "Scrivere una o più funzioni che calcoli l'area del rettangolo, del quadrato e riutilizzarle per trovare l'area di figure composte da quadrati e rettangoli"
      ],
      "metadata": {
        "id": "TgH7JXhGNV0D"
      }
    },
    {
      "cell_type": "code",
      "execution_count": null,
      "metadata": {
        "id": "vZYiA-PYK7gM"
      },
      "outputs": [],
      "source": [
        "def areaRettangolo(base, altezza):\n",
        "  return base * altezza"
      ]
    },
    {
      "cell_type": "code",
      "source": [
        "print(f\"L'area della figura è {areaRettangolo(3, 3) * 2 + areaRettangolo(3, 6)}\")"
      ],
      "metadata": {
        "colab": {
          "base_uri": "https://localhost:8080/"
        },
        "id": "zNyLp4NGLEZ0",
        "outputId": "d4600724-1af4-4e47-a88e-22128b87f496"
      },
      "execution_count": null,
      "outputs": [
        {
          "output_type": "stream",
          "name": "stdout",
          "text": [
            "L'area della figura è 36\n"
          ]
        }
      ]
    }
  ]
}